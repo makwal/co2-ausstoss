{
 "cells": [
  {
   "cell_type": "markdown",
   "metadata": {},
   "source": [
    "# CO2-Ausstoss von Personenwagen\n",
    "In diesem Notebook werden Informationen des Bundesamts für Strassen aufbereitet. Der Datensatz ist sehr umfangreich. Damit trotzdem effizient damit gearbeitet werden kann, werden bloss die für unsere Fragestellungen relevanten Daten eingelesen beziehungsweise behalten. Das genaue Vorgehen kann anhand des untenstehenden Python-Codes nachvollzogen werden. Die Rohdaten sind allerdings nicht verfügbar, da diese (kostenpflichtig) beim Bundesamt für Strassen bezogen werden müssen. "
   ]
  },
  {
   "cell_type": "markdown",
   "metadata": {},
   "source": [
    "Testdaten: https://files.admin.ch/astra_ffr/mofis/Datenlieferungs-Kunden/opendata/1000-Fahrzeuge_IVZ/1400-Vertragspflichtige_Datensaetze/1430-Bestaende_mit_PLZ/BEST_R-Testdatensatz.txt"
   ]
  },
  {
   "cell_type": "code",
   "execution_count": 49,
   "metadata": {},
   "outputs": [
    {
     "name": "stderr",
     "output_type": "stream",
     "text": [
      "/home/mark/anaconda3/lib/python3.8/site-packages/tqdm/std.py:668: FutureWarning: The Panel class is removed from pandas. Accessing it from the top-level namespace will also be removed in the next version\n",
      "  from pandas import Panel\n",
      "UsageError: Line magic function `%matplotlib-inline` not found.\n"
     ]
    }
   ],
   "source": [
    "# Importieren der nötigen Bibliotheken. \n",
    "import pandas as pd\n",
    "import numpy as np\n",
    "import os\n",
    "from tqdm.auto import tqdm\n",
    "tqdm.pandas()\n",
    "from matplotlib import pyplot as plt\n",
    "%matplotlib-inline"
   ]
  },
  {
   "cell_type": "code",
   "execution_count": 2,
   "metadata": {},
   "outputs": [],
   "source": [
    "# Die für unsere Fragestellung relevanten Spalten werden ausgewählt.\n",
    "columns = ['Fahrzeugart', 'Leistung', 'Treibstoff', 'Erstinverkehrsetzung_Jahr', 'Altersklasse_Halter', \n",
    "           'Ort', 'BFS-Gemeinde-Nr', 'Halterart', 'CO2', 'Staat', 'Inverkehrsetzung_Kanton',\n",
    "           'Marke_und_Typ']"
   ]
  },
  {
   "cell_type": "code",
   "execution_count": 3,
   "metadata": {
    "scrolled": true
   },
   "outputs": [
    {
     "name": "stderr",
     "output_type": "stream",
     "text": [
      "/home/mark/anaconda3/lib/python3.8/site-packages/IPython/core/interactiveshell.py:3071: DtypeWarning: Columns (28,31) have mixed types.Specify dtype option on import or set low_memory=False.\n",
      "  has_raised = await self.run_ast_nodes(code_ast.body, cell_name,\n"
     ]
    }
   ],
   "source": [
    "# Einlesen der Daten. \n",
    "df = pd.read_csv('Rohdaten/1959_Fahrzeugbestand 2021 und 2011/BEST_R-20210501.txt', usecols=columns,  sep='\\t', engine='c')"
   ]
  },
  {
   "cell_type": "code",
   "execution_count": 4,
   "metadata": {},
   "outputs": [],
   "source": [
    "# Uns interessieren einzig die Personenwagen. Alle anderen Daten werden ausgefiltert.\n",
    "df = df[df['Fahrzeugart'] == 'Personenwagen'].copy()"
   ]
  },
  {
   "cell_type": "code",
   "execution_count": 5,
   "metadata": {},
   "outputs": [],
   "source": [
    "# Im Datensatz sind Autos enthalten, die für den Export bestimmt sind oder nicht auf die Strassen sollen. \n",
    "# Diese sind für uns irrelevant. Wir behalten einzig Fahrzeuge mit einem Schweizer Nummernschild.\n",
    "df = df[df['Staat'] == 'Schweiz'].copy()"
   ]
  },
  {
   "cell_type": "code",
   "execution_count": 6,
   "metadata": {
    "scrolled": true
   },
   "outputs": [
    {
     "name": "stdout",
     "output_type": "stream",
     "text": [
      "<class 'pandas.core.frame.DataFrame'>\n",
      "Int64Index: 4670515 entries, 20 to 6811875\n",
      "Data columns (total 12 columns):\n",
      " #   Column                     Dtype  \n",
      "---  ------                     -----  \n",
      " 0   Fahrzeugart                object \n",
      " 1   Marke_und_Typ              object \n",
      " 2   Leistung                   object \n",
      " 3   Treibstoff                 object \n",
      " 4   CO2                        float64\n",
      " 5   Erstinverkehrsetzung_Jahr  int64  \n",
      " 6   Inverkehrsetzung_Kanton    object \n",
      " 7   Ort                        object \n",
      " 8   BFS-Gemeinde-Nr            object \n",
      " 9   Staat                      object \n",
      " 10  Halterart                  object \n",
      " 11  Altersklasse_Halter        object \n",
      "dtypes: float64(1), int64(1), object(10)\n",
      "memory usage: 463.2+ MB\n"
     ]
    }
   ],
   "source": [
    "#Wie viele Autos ingesamt?\n",
    "df.info()"
   ]
  },
  {
   "cell_type": "code",
   "execution_count": 7,
   "metadata": {},
   "outputs": [
    {
     "data": {
      "text/plain": [
       "384746"
      ]
     },
     "execution_count": 7,
     "metadata": {},
     "output_type": "execute_result"
    }
   ],
   "source": [
    "# Bei wie vielen Personenwagen fehlt eine Angabe zum CO2-Wert? \n",
    "len(df[df['CO2'].isna()])"
   ]
  },
  {
   "cell_type": "code",
   "execution_count": 8,
   "metadata": {},
   "outputs": [
    {
     "data": {
      "text/plain": [
       "8.237763929673708"
      ]
     },
     "execution_count": 8,
     "metadata": {},
     "output_type": "execute_result"
    }
   ],
   "source": [
    "# Bei wie vielen Prozent aller Autos fehlt eine Angabe zum CO2-Wert?\n",
    "100 * len(df[df['CO2'].isna()]) / len(df)"
   ]
  },
  {
   "cell_type": "code",
   "execution_count": 9,
   "metadata": {},
   "outputs": [
    {
     "data": {
      "text/plain": [
       "7.063931921854442"
      ]
     },
     "execution_count": 9,
     "metadata": {},
     "output_type": "execute_result"
    }
   ],
   "source": [
    "#So viele Prozent der Autos werden im Verlauf dieses Notebooks entfernt\n",
    "weg = 1986 + 326681 + 1236 + 15 + 4\n",
    "100 * weg / len(df)"
   ]
  },
  {
   "cell_type": "code",
   "execution_count": 10,
   "metadata": {},
   "outputs": [
    {
     "data": {
      "text/plain": [
       "1986"
      ]
     },
     "execution_count": 10,
     "metadata": {},
     "output_type": "execute_result"
    }
   ],
   "source": [
    "#Bei wie vielen Autos hat es weder bei Treibstoff noch bei CO2 eine Angabe?\n",
    "len(df[(df['Treibstoff'].isna()) & (df['CO2'].isna())])"
   ]
  },
  {
   "cell_type": "code",
   "execution_count": 11,
   "metadata": {},
   "outputs": [
    {
     "data": {
      "text/plain": [
       "1967.0"
      ]
     },
     "execution_count": 11,
     "metadata": {},
     "output_type": "execute_result"
    }
   ],
   "source": [
    "#Aus welchem Jahr sind sie im Median?\n",
    "df[(df['Treibstoff'].isna()) & (df['CO2'].isna())]['Erstinverkehrsetzung_Jahr'].median()"
   ]
  },
  {
   "cell_type": "code",
   "execution_count": 12,
   "metadata": {},
   "outputs": [],
   "source": [
    "# Autos, bei denen weder beim Treibstoff noch beim CO2 ein Wert erfasst sind, werden entfernt. \n",
    "df = df.dropna(subset=['Treibstoff', 'CO2'], how='all')"
   ]
  },
  {
   "cell_type": "code",
   "execution_count": 13,
   "metadata": {},
   "outputs": [],
   "source": [
    "#In Welchen Gemeinden fehlt bei mehr als 20 Prozent der Autos der CO2-Wert?\n",
    "#bfsliste = df['BFS-Gemeinde-Nr'].unique().tolist()\n",
    "\n",
    "#df_control = pd.DataFrame()\n",
    "\n",
    "#for i in tqdm(bfsliste):\n",
    "#    value = 100 * len(df[(df['BFS-Gemeinde-Nr'] == i) & (df['CO2'].isna())]) / len(df[df['BFS-Gemeinde-Nr'] == i])\n",
    "#    if value > 20:\n",
    "#        temp_dict = {'BFS-Nummer': i, 'Autos ohne CO2_pct': [value]}\n",
    "#        df_temp = pd.DataFrame(data=temp_dict)\n",
    "#        df_control = pd.concat([df_control, df_temp])\n",
    "\n",
    "#Export in ein csv\n",
    "#df_control.to_csv('kontrolle_gemeinden_fehlende_co2_angaben.csv')      "
   ]
  },
  {
   "cell_type": "code",
   "execution_count": 14,
   "metadata": {},
   "outputs": [
    {
     "data": {
      "text/plain": [
       "326681"
      ]
     },
     "execution_count": 14,
     "metadata": {},
     "output_type": "execute_result"
    }
   ],
   "source": [
    "#Bei wie vielen Autos hat es bei Verbrennungsmotoren keinen CO2-Wert?\n",
    "#Autos in 'übrige Treibstoffe' haben keinen CO2-Wert. Sie werden ebenfalls entfernt, weil die Treibstoffart unklar ist\n",
    "df['Treibstoff'] = df['Treibstoff'].str.strip().copy()\n",
    "treibstoff = ['Benzin', 'Diesel', 'Methanol', 'Flüssiggas (LPG) / Benzin',\n",
    "           'Benzin / Elektrisch', 'Diesel / Elektrisch', 'Benzin / Alkohol (Ethanol)', 'Erdgas (CNG) / Benzin', \n",
    "           'Gas (CNG/GPL)', 'Flüssiggas (LPG)', 'Erdgas (CNG)', \n",
    "           'Alkohol (Ethanol)', 'Petrol', 'übrige Treibstoffe']\n",
    "len(df[((df['Treibstoff'].isin(treibstoff)) & (df['CO2'].isna()))])"
   ]
  },
  {
   "cell_type": "code",
   "execution_count": 15,
   "metadata": {},
   "outputs": [
    {
     "data": {
      "text/plain": [
       "2007.0"
      ]
     },
     "execution_count": 15,
     "metadata": {},
     "output_type": "execute_result"
    }
   ],
   "source": [
    "#Was ist das Median-Jahr für diese Autos?\n",
    "df[((df['Treibstoff'].isin(treibstoff)) & (df['CO2'].isna()))]['Erstinverkehrsetzung_Jahr'].median()"
   ]
  },
  {
   "cell_type": "code",
   "execution_count": 16,
   "metadata": {},
   "outputs": [],
   "source": [
    "# Verbrennungsmotoren, bei denen kein CO2-Wert vorhanden ist, werden entfernt. \n",
    "df = df[~((df['Treibstoff'].isin(treibstoff)) & (df['CO2'].isna()))]"
   ]
  },
  {
   "cell_type": "code",
   "execution_count": 17,
   "metadata": {},
   "outputs": [
    {
     "data": {
      "text/plain": [
       "array(['Elektrisch', 'Elektrisch mit RE (Range Extender)',\n",
       "       'Wasserstoff / Elektrisch'], dtype=object)"
      ]
     },
     "execution_count": 17,
     "metadata": {},
     "output_type": "execute_result"
    }
   ],
   "source": [
    "#Welche Treibstoffarten verbleiben im Dataset ohne CO2-Angabe?\n",
    "df[df['CO2'].isna()]['Treibstoff'].unique()"
   ]
  },
  {
   "cell_type": "code",
   "execution_count": 18,
   "metadata": {},
   "outputs": [],
   "source": [
    "# Bei den übrigen Autos -- alle mit mind. teilweise Elektroantrieb -- wird der fehlende CO2-Wert auf 0 gesetzt. \n",
    "# Damit werden diese Fahrzeuge in der Auswertung miteinbezogen. \n",
    "for i, r in df[df['CO2'].isna()].iterrows():\n",
    "    df.at[i, 'CO2'] = 0"
   ]
  },
  {
   "cell_type": "code",
   "execution_count": 19,
   "metadata": {},
   "outputs": [
    {
     "data": {
      "text/plain": [
       "1236"
      ]
     },
     "execution_count": 19,
     "metadata": {},
     "output_type": "execute_result"
    }
   ],
   "source": [
    "# In den Daten gibts diverse Einträge zu emmissionslosen Verbrennungsmotoren. Wie viele sind es? \n",
    "len(df[((df['CO2'] == 0) & ((df['Treibstoff'] == 'Benzin') | (df['Treibstoff'] == 'Diesel')))])"
   ]
  },
  {
   "cell_type": "code",
   "execution_count": 20,
   "metadata": {},
   "outputs": [],
   "source": [
    "# Verbrennungsmotoren, die kein CO2 verursachen, gibts leider nicht. Die entsprechenden Einträge werden entfernt. \n",
    "df = df[~((df['CO2'] == 0) & (df['Treibstoff'] == 'Benzin'))]\n",
    "df = df[~((df['CO2'] == 0) & (df['Treibstoff'] == 'Diesel'))]"
   ]
  },
  {
   "cell_type": "code",
   "execution_count": 21,
   "metadata": {},
   "outputs": [
    {
     "data": {
      "text/html": [
       "<div>\n",
       "<style scoped>\n",
       "    .dataframe tbody tr th:only-of-type {\n",
       "        vertical-align: middle;\n",
       "    }\n",
       "\n",
       "    .dataframe tbody tr th {\n",
       "        vertical-align: top;\n",
       "    }\n",
       "\n",
       "    .dataframe thead th {\n",
       "        text-align: right;\n",
       "    }\n",
       "</style>\n",
       "<table border=\"1\" class=\"dataframe\">\n",
       "  <thead>\n",
       "    <tr style=\"text-align: right;\">\n",
       "      <th></th>\n",
       "      <th>CO2</th>\n",
       "      <th>Erstinverkehrsetzung_Jahr</th>\n",
       "    </tr>\n",
       "  </thead>\n",
       "  <tbody>\n",
       "    <tr>\n",
       "      <th>count</th>\n",
       "      <td>15.000000</td>\n",
       "      <td>15.000000</td>\n",
       "    </tr>\n",
       "    <tr>\n",
       "      <th>mean</th>\n",
       "      <td>141.400000</td>\n",
       "      <td>2017.200000</td>\n",
       "    </tr>\n",
       "    <tr>\n",
       "      <th>std</th>\n",
       "      <td>184.378803</td>\n",
       "      <td>3.783422</td>\n",
       "    </tr>\n",
       "    <tr>\n",
       "      <th>min</th>\n",
       "      <td>12.000000</td>\n",
       "      <td>2008.000000</td>\n",
       "    </tr>\n",
       "    <tr>\n",
       "      <th>25%</th>\n",
       "      <td>20.000000</td>\n",
       "      <td>2016.000000</td>\n",
       "    </tr>\n",
       "    <tr>\n",
       "      <th>50%</th>\n",
       "      <td>121.000000</td>\n",
       "      <td>2019.000000</td>\n",
       "    </tr>\n",
       "    <tr>\n",
       "      <th>75%</th>\n",
       "      <td>145.500000</td>\n",
       "      <td>2020.000000</td>\n",
       "    </tr>\n",
       "    <tr>\n",
       "      <th>max</th>\n",
       "      <td>739.000000</td>\n",
       "      <td>2020.000000</td>\n",
       "    </tr>\n",
       "  </tbody>\n",
       "</table>\n",
       "</div>"
      ],
      "text/plain": [
       "              CO2  Erstinverkehrsetzung_Jahr\n",
       "count   15.000000                  15.000000\n",
       "mean   141.400000                2017.200000\n",
       "std    184.378803                   3.783422\n",
       "min     12.000000                2008.000000\n",
       "25%     20.000000                2016.000000\n",
       "50%    121.000000                2019.000000\n",
       "75%    145.500000                2020.000000\n",
       "max    739.000000                2020.000000"
      ]
     },
     "execution_count": 21,
     "metadata": {},
     "output_type": "execute_result"
    }
   ],
   "source": [
    "#Es gibt 15 Elektroautos mit einem CO2-Verbrauch über 1 g/km. Dabei dürfte es sich gemäss Astra um Fehler handeln.\n",
    "df[(df['Treibstoff'] == 'Elektrisch') & (df['CO2'] > 1)].describe()"
   ]
  },
  {
   "cell_type": "code",
   "execution_count": 22,
   "metadata": {},
   "outputs": [],
   "source": [
    "#Die E-Autos mit CO2 > 1 werden aus dem Datensatz entfernt\n",
    "df = df[~((df['Treibstoff'] == 'Elektrisch') & (df['CO2'] > 1))]"
   ]
  },
  {
   "cell_type": "code",
   "execution_count": 23,
   "metadata": {},
   "outputs": [
    {
     "data": {
      "text/plain": [
       "Fahrzeugart                  Personenwagen\n",
       "Marke_und_Typ                   vwMultivan\n",
       "CO2                                    999\n",
       "Erstinverkehrsetzung_Jahr             2021\n",
       "Inverkehrsetzung_Kanton                 ZH\n",
       "Ort                                locarno\n",
       "BFS-Gemeinde-Nr                        996\n",
       "Staat                              Schweiz\n",
       "Halterart                         weiblich\n",
       "dtype: object"
      ]
     },
     "execution_count": 23,
     "metadata": {},
     "output_type": "execute_result"
    }
   ],
   "source": [
    "#Maximaler CO2-Ausstoss in den Daten\n",
    "df.max()"
   ]
  },
  {
   "cell_type": "code",
   "execution_count": 24,
   "metadata": {},
   "outputs": [
    {
     "data": {
      "text/html": [
       "<div>\n",
       "<style scoped>\n",
       "    .dataframe tbody tr th:only-of-type {\n",
       "        vertical-align: middle;\n",
       "    }\n",
       "\n",
       "    .dataframe tbody tr th {\n",
       "        vertical-align: top;\n",
       "    }\n",
       "\n",
       "    .dataframe thead th {\n",
       "        text-align: right;\n",
       "    }\n",
       "</style>\n",
       "<table border=\"1\" class=\"dataframe\">\n",
       "  <thead>\n",
       "    <tr style=\"text-align: right;\">\n",
       "      <th></th>\n",
       "      <th>Fahrzeugart</th>\n",
       "      <th>Marke_und_Typ</th>\n",
       "      <th>Leistung</th>\n",
       "      <th>Treibstoff</th>\n",
       "      <th>CO2</th>\n",
       "      <th>Erstinverkehrsetzung_Jahr</th>\n",
       "      <th>Inverkehrsetzung_Kanton</th>\n",
       "      <th>Ort</th>\n",
       "      <th>BFS-Gemeinde-Nr</th>\n",
       "      <th>Staat</th>\n",
       "      <th>Halterart</th>\n",
       "      <th>Altersklasse_Halter</th>\n",
       "    </tr>\n",
       "  </thead>\n",
       "  <tbody>\n",
       "    <tr>\n",
       "      <th>34175</th>\n",
       "      <td>Personenwagen</td>\n",
       "      <td>ALFA ROMEO GiuliettaSprint13</td>\n",
       "      <td>59</td>\n",
       "      <td>Benzin</td>\n",
       "      <td>999.0</td>\n",
       "      <td>1965</td>\n",
       "      <td>BL</td>\n",
       "      <td>Gelterkinden</td>\n",
       "      <td>2'846</td>\n",
       "      <td>Schweiz</td>\n",
       "      <td>männlich</td>\n",
       "      <td>70 bis 79</td>\n",
       "    </tr>\n",
       "    <tr>\n",
       "      <th>1061204</th>\n",
       "      <td>Personenwagen</td>\n",
       "      <td>CITROEN C5 2.2 HDI</td>\n",
       "      <td>150</td>\n",
       "      <td>Diesel</td>\n",
       "      <td>999.0</td>\n",
       "      <td>2012</td>\n",
       "      <td>ZH</td>\n",
       "      <td>Mettmenstetten</td>\n",
       "      <td>9</td>\n",
       "      <td>Schweiz</td>\n",
       "      <td>männlich</td>\n",
       "      <td>50 bis 59</td>\n",
       "    </tr>\n",
       "    <tr>\n",
       "      <th>1069541</th>\n",
       "      <td>Personenwagen</td>\n",
       "      <td>CITROEN DS3 1.6 HDI</td>\n",
       "      <td>84</td>\n",
       "      <td>Diesel</td>\n",
       "      <td>999.0</td>\n",
       "      <td>2014</td>\n",
       "      <td>FR</td>\n",
       "      <td>Châtel-St-Denis</td>\n",
       "      <td>2'325</td>\n",
       "      <td>Schweiz</td>\n",
       "      <td>weiblich</td>\n",
       "      <td>20 bis 29</td>\n",
       "    </tr>\n",
       "    <tr>\n",
       "      <th>5650043</th>\n",
       "      <td>Personenwagen</td>\n",
       "      <td>Toyota Auris</td>\n",
       "      <td>73</td>\n",
       "      <td>Benzin / Elektrisch</td>\n",
       "      <td>999.0</td>\n",
       "      <td>2019</td>\n",
       "      <td>ZH</td>\n",
       "      <td>Zürich</td>\n",
       "      <td>261</td>\n",
       "      <td>Schweiz</td>\n",
       "      <td>männlich</td>\n",
       "      <td>60 bis 69</td>\n",
       "    </tr>\n",
       "  </tbody>\n",
       "</table>\n",
       "</div>"
      ],
      "text/plain": [
       "           Fahrzeugart                 Marke_und_Typ Leistung  \\\n",
       "34175    Personenwagen  ALFA ROMEO GiuliettaSprint13       59   \n",
       "1061204  Personenwagen            CITROEN C5 2.2 HDI      150   \n",
       "1069541  Personenwagen           CITROEN DS3 1.6 HDI       84   \n",
       "5650043  Personenwagen                  Toyota Auris       73   \n",
       "\n",
       "                  Treibstoff    CO2  Erstinverkehrsetzung_Jahr  \\\n",
       "34175                 Benzin  999.0                       1965   \n",
       "1061204               Diesel  999.0                       2012   \n",
       "1069541               Diesel  999.0                       2014   \n",
       "5650043  Benzin / Elektrisch  999.0                       2019   \n",
       "\n",
       "        Inverkehrsetzung_Kanton              Ort BFS-Gemeinde-Nr    Staat  \\\n",
       "34175                        BL     Gelterkinden           2'846  Schweiz   \n",
       "1061204                      ZH   Mettmenstetten               9  Schweiz   \n",
       "1069541                      FR  Châtel-St-Denis           2'325  Schweiz   \n",
       "5650043                      ZH           Zürich             261  Schweiz   \n",
       "\n",
       "        Halterart Altersklasse_Halter  \n",
       "34175    männlich           70 bis 79  \n",
       "1061204  männlich           50 bis 59  \n",
       "1069541  weiblich           20 bis 29  \n",
       "5650043  männlich           60 bis 69  "
      ]
     },
     "execution_count": 24,
     "metadata": {},
     "output_type": "execute_result"
    }
   ],
   "source": [
    "#Es gibt vier Autos mit einem unglaubwürdig hohen CO2-Ausstoss von 999 g/km. Gemäss Astra ist die 999\n",
    "#ausserdem die höchstmögliche Zahl in ihrem System. Es dürfte sich also um einen Fehler handeln\n",
    "df[df['CO2'] == 999]"
   ]
  },
  {
   "cell_type": "code",
   "execution_count": 25,
   "metadata": {},
   "outputs": [],
   "source": [
    "#Die Wagen mit CO2 == 999 g/km werden entfernt\n",
    "df = df[~(df['CO2'] == 999)]"
   ]
  },
  {
   "cell_type": "code",
   "execution_count": 26,
   "metadata": {},
   "outputs": [
    {
     "data": {
      "application/vnd.jupyter.widget-view+json": {
       "model_id": "d552cff27ddb4b6089bb5d5157e1dbd9",
       "version_major": 2,
       "version_minor": 0
      },
      "text/plain": [
       "HBox(children=(FloatProgress(value=1.0, bar_style='info', max=1.0), HTML(value='')))"
      ]
     },
     "metadata": {},
     "output_type": "display_data"
    },
    {
     "name": "stdout",
     "output_type": "stream",
     "text": [
      "\n"
     ]
    },
    {
     "data": {
      "application/vnd.jupyter.widget-view+json": {
       "model_id": "6f52b434325240ac999c47cd16581816",
       "version_major": 2,
       "version_minor": 0
      },
      "text/plain": [
       "HBox(children=(FloatProgress(value=1.0, bar_style='info', max=1.0), HTML(value='')))"
      ]
     },
     "metadata": {},
     "output_type": "display_data"
    },
    {
     "name": "stdout",
     "output_type": "stream",
     "text": [
      "\n"
     ]
    }
   ],
   "source": [
    "# Im Datensatz sind Gemeinden enthalten, bei denen die nicht existierende Gemeindenummer 0 eingetragen wurde. \n",
    "# Wir versuchen anhand der übrigen Daten die richtigen Nummern einzutragen. \n",
    "df['BFS-Gemeinde-Nr'] = df['BFS-Gemeinde-Nr'].apply(lambda x: int(str(x).replace('\\'', '')))\n",
    "\n",
    "for i, r in tqdm(df[df['BFS-Gemeinde-Nr'] == 0].iterrows()):\n",
    "    try:\n",
    "        b = df[df['Ort'] == r['Ort']]['BFS-Gemeinde-Nr'].value_counts().index.tolist()[0]\n",
    "        df.at[i, 'BFS-Gemeinde-Nr'] = int(b)\n",
    "    except: \n",
    "        pass\n",
    "\n",
    "# Weitere Korrektur: Bei allen Einträgen zu Ponte Cremenaga, einem Weiler in der Gemeinde Monteggio, \n",
    "# fehlen die BfS-Nummern. \n",
    "for i, r in tqdm(df[df['Ort'].str.lower() == 'ponte cremenaga'].iterrows()):\n",
    "    df.at[i, 'BFS-Gemeinde-Nr'] = 5202"
   ]
  },
  {
   "cell_type": "markdown",
   "metadata": {},
   "source": [
    "### Test: Gemeinden mit mehreren BFS-Nummern"
   ]
  },
  {
   "cell_type": "code",
   "execution_count": 27,
   "metadata": {
    "scrolled": true
   },
   "outputs": [],
   "source": [
    "# Welchen Gemeinden sind mehrere BfS-Nummern zugeordnet? \n",
    "df_test = pd.DataFrame(df.groupby(by=['Ort', 'Inverkehrsetzung_Kanton'])['BFS-Gemeinde-Nr'].nunique())\n",
    "df_test = df_test[df_test['BFS-Gemeinde-Nr'] != 1]\n",
    "df_test = df_test.reset_index()"
   ]
  },
  {
   "cell_type": "code",
   "execution_count": 28,
   "metadata": {},
   "outputs": [
    {
     "data": {
      "application/vnd.jupyter.widget-view+json": {
       "model_id": "debbefee055049a2b24ccf364eaae4b8",
       "version_major": 2,
       "version_minor": 0
      },
      "text/plain": [
       "HBox(children=(FloatProgress(value=1.0, bar_style='info', max=1.0), HTML(value='')))"
      ]
     },
     "metadata": {},
     "output_type": "display_data"
    },
    {
     "name": "stdout",
     "output_type": "stream",
     "text": [
      "\n"
     ]
    },
    {
     "data": {
      "text/html": [
       "<div>\n",
       "<style scoped>\n",
       "    .dataframe tbody tr th:only-of-type {\n",
       "        vertical-align: middle;\n",
       "    }\n",
       "\n",
       "    .dataframe tbody tr th {\n",
       "        vertical-align: top;\n",
       "    }\n",
       "\n",
       "    .dataframe thead th {\n",
       "        text-align: right;\n",
       "    }\n",
       "</style>\n",
       "<table border=\"1\" class=\"dataframe\">\n",
       "  <thead>\n",
       "    <tr style=\"text-align: right;\">\n",
       "      <th></th>\n",
       "      <th>Ort</th>\n",
       "      <th>Inverkehrsetzung_Kanton</th>\n",
       "      <th>BFS-Gemeinde-Nr</th>\n",
       "      <th>bfs_korr</th>\n",
       "    </tr>\n",
       "  </thead>\n",
       "  <tbody>\n",
       "    <tr>\n",
       "      <th>91</th>\n",
       "      <td>Lausanne</td>\n",
       "      <td>VD</td>\n",
       "      <td>14</td>\n",
       "      <td>5586.0</td>\n",
       "    </tr>\n",
       "    <tr>\n",
       "      <th>119</th>\n",
       "      <td>Morges</td>\n",
       "      <td>VD</td>\n",
       "      <td>9</td>\n",
       "      <td>5642.0</td>\n",
       "    </tr>\n",
       "    <tr>\n",
       "      <th>15</th>\n",
       "      <td>Bern</td>\n",
       "      <td>BE</td>\n",
       "      <td>8</td>\n",
       "      <td>351.0</td>\n",
       "    </tr>\n",
       "    <tr>\n",
       "      <th>69</th>\n",
       "      <td>Gland</td>\n",
       "      <td>VD</td>\n",
       "      <td>7</td>\n",
       "      <td>5721.0</td>\n",
       "    </tr>\n",
       "    <tr>\n",
       "      <th>33</th>\n",
       "      <td>Cheseaux-sur-Lausanne</td>\n",
       "      <td>VD</td>\n",
       "      <td>6</td>\n",
       "      <td>5582.0</td>\n",
       "    </tr>\n",
       "    <tr>\n",
       "      <th>...</th>\n",
       "      <td>...</td>\n",
       "      <td>...</td>\n",
       "      <td>...</td>\n",
       "      <td>...</td>\n",
       "    </tr>\n",
       "    <tr>\n",
       "      <th>76</th>\n",
       "      <td>Hertenstein</td>\n",
       "      <td>AG</td>\n",
       "      <td>2</td>\n",
       "      <td>4038.0</td>\n",
       "    </tr>\n",
       "    <tr>\n",
       "      <th>77</th>\n",
       "      <td>Hofstetten</td>\n",
       "      <td>BE</td>\n",
       "      <td>2</td>\n",
       "      <td>580.0</td>\n",
       "    </tr>\n",
       "    <tr>\n",
       "      <th>78</th>\n",
       "      <td>Innertkirchen</td>\n",
       "      <td>BE</td>\n",
       "      <td>2</td>\n",
       "      <td>784.0</td>\n",
       "    </tr>\n",
       "    <tr>\n",
       "      <th>79</th>\n",
       "      <td>Jens</td>\n",
       "      <td>BE</td>\n",
       "      <td>2</td>\n",
       "      <td>738.0</td>\n",
       "    </tr>\n",
       "    <tr>\n",
       "      <th>102</th>\n",
       "      <td>Luzern</td>\n",
       "      <td>LU</td>\n",
       "      <td>2</td>\n",
       "      <td>1061.0</td>\n",
       "    </tr>\n",
       "  </tbody>\n",
       "</table>\n",
       "<p>205 rows × 4 columns</p>\n",
       "</div>"
      ],
      "text/plain": [
       "                       Ort Inverkehrsetzung_Kanton  BFS-Gemeinde-Nr  bfs_korr\n",
       "91                Lausanne                      VD               14    5586.0\n",
       "119                 Morges                      VD                9    5642.0\n",
       "15                    Bern                      BE                8     351.0\n",
       "69                   Gland                      VD                7    5721.0\n",
       "33   Cheseaux-sur-Lausanne                      VD                6    5582.0\n",
       "..                     ...                     ...              ...       ...\n",
       "76             Hertenstein                      AG                2    4038.0\n",
       "77              Hofstetten                      BE                2     580.0\n",
       "78           Innertkirchen                      BE                2     784.0\n",
       "79                    Jens                      BE                2     738.0\n",
       "102                 Luzern                      LU                2    1061.0\n",
       "\n",
       "[205 rows x 4 columns]"
      ]
     },
     "execution_count": 28,
     "metadata": {},
     "output_type": "execute_result"
    }
   ],
   "source": [
    "# Eine Spalte für die korrigierte BFS-Nummer wird eingefügt. \n",
    "for i, r in tqdm(df_test.iterrows()):\n",
    "    bfs = df[(df['Ort'] == r['Ort']) & (df['Inverkehrsetzung_Kanton'] == r['Inverkehrsetzung_Kanton'])]['BFS-Gemeinde-Nr'].value_counts().index.tolist()[0]\n",
    "    df_test.at[i, 'bfs_korr'] = bfs\n",
    "    \n",
    "df_test.sort_values(by='BFS-Gemeinde-Nr', ascending=False)"
   ]
  },
  {
   "cell_type": "code",
   "execution_count": 29,
   "metadata": {},
   "outputs": [
    {
     "data": {
      "text/plain": [
       "array([5586, 5590, 5635, 5633, 5484, 5410, 5889, 5648, 5587, 5721, 5803,\n",
       "       5613, 5591, 5588])"
      ]
     },
     "execution_count": 29,
     "metadata": {},
     "output_type": "execute_result"
    }
   ],
   "source": [
    "df[df['Ort'] == 'Lausanne']['BFS-Gemeinde-Nr'].unique()"
   ]
  },
  {
   "cell_type": "markdown",
   "metadata": {},
   "source": [
    "Im Datensatz existieren Gemeinden, denen mehr als eine BFS-Nummer zugeordnet wurde. Die Abklärung beim Astra ergab, dass die Gemeinden anhand der BFS-Nummer bearbeitet werden sollen. Sie ist die verlässliche Angabe im Gegensatz zur Spalte \"Ort\"."
   ]
  },
  {
   "cell_type": "markdown",
   "metadata": {},
   "source": [
    "### Daten-Export"
   ]
  },
  {
   "cell_type": "code",
   "execution_count": 30,
   "metadata": {},
   "outputs": [],
   "source": [
    "# Exportieren der gefilterten Komplettdaten. \n",
    "df.to_csv('co2_daten_gefiltert.csv')"
   ]
  },
  {
   "cell_type": "code",
   "execution_count": 31,
   "metadata": {},
   "outputs": [],
   "source": [
    "# Exportieren der gefilterten Daten gruppiert nach Gemeinde.\n",
    "df_export = df.groupby(by='BFS-Gemeinde-Nr').agg({'Ort': 'first', 'CO2': 'mean', 'Treibstoff': 'count'})\n",
    "df_export.columns = ['ort', 'CO2', 'anz_fahrzeuge']\n",
    "df_export = df_export[df_export.index > 0].copy()"
   ]
  },
  {
   "cell_type": "markdown",
   "metadata": {},
   "source": [
    "Obacht: beim Groupby wird für den Ort immer der erste Wert genommen. Zum Beispiel Aarau Rohr für die bfs-Nummer 4001, die zu Aarau gehört. Diese Unschärfe spielt insofern keine Rolle, als im nächsten Notebook 2_raumgliederung der aktuelle Gemeindestand hinzugemergt wird. In der zusätzlichen, neuen Ortsspalte steht dann Aarau."
   ]
  },
  {
   "cell_type": "code",
   "execution_count": 32,
   "metadata": {},
   "outputs": [],
   "source": [
    "df_export.to_csv('co2_daten_gefiltert_gruppiert.csv')"
   ]
  }
 ],
 "metadata": {
  "kernelspec": {
   "display_name": "Python 3",
   "language": "python",
   "name": "python3"
  },
  "language_info": {
   "codemirror_mode": {
    "name": "ipython",
    "version": 3
   },
   "file_extension": ".py",
   "mimetype": "text/x-python",
   "name": "python",
   "nbconvert_exporter": "python",
   "pygments_lexer": "ipython3",
   "version": "3.8.3"
  },
  "toc": {
   "base_numbering": 1,
   "nav_menu": {},
   "number_sections": true,
   "sideBar": true,
   "skip_h1_title": true,
   "title_cell": "Inhaltsverzeichnis",
   "title_sidebar": "Inhalt",
   "toc_cell": true,
   "toc_position": {},
   "toc_section_display": true,
   "toc_window_display": false
  },
  "varInspector": {
   "cols": {
    "lenName": 16,
    "lenType": 16,
    "lenVar": 40
   },
   "kernels_config": {
    "python": {
     "delete_cmd_postfix": "",
     "delete_cmd_prefix": "del ",
     "library": "var_list.py",
     "varRefreshCmd": "print(var_dic_list())"
    },
    "r": {
     "delete_cmd_postfix": ") ",
     "delete_cmd_prefix": "rm(",
     "library": "var_list.r",
     "varRefreshCmd": "cat(var_dic_list()) "
    }
   },
   "types_to_exclude": [
    "module",
    "function",
    "builtin_function_or_method",
    "instance",
    "_Feature"
   ],
   "window_display": false
  }
 },
 "nbformat": 4,
 "nbformat_minor": 2
}
